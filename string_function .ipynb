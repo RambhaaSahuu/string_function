{
 "cells": [
  {
   "cell_type": "markdown",
   "id": "a8a17868",
   "metadata": {},
   "source": [
    "## String Function"
   ]
  },
  {
   "cell_type": "markdown",
   "id": "71ceaf62",
   "metadata": {},
   "source": [
    "### len() \n",
    "returns the length of the string "
   ]
  },
  {
   "cell_type": "code",
   "execution_count": 2,
   "id": "57f88bf2",
   "metadata": {},
   "outputs": [
    {
     "data": {
      "text/plain": [
       "11"
      ]
     },
     "execution_count": 2,
     "metadata": {},
     "output_type": "execute_result"
    }
   ],
   "source": [
    "str='elearner365'\n",
    "len(str)"
   ]
  },
  {
   "cell_type": "code",
   "execution_count": null,
   "id": "5adbfbfc",
   "metadata": {},
   "outputs": [],
   "source": []
  }
 ],
 "metadata": {
  "kernelspec": {
   "display_name": "Python 3",
   "language": "python",
   "name": "python3"
  },
  "language_info": {
   "codemirror_mode": {
    "name": "ipython",
    "version": 3
   },
   "file_extension": ".py",
   "mimetype": "text/x-python",
   "name": "python",
   "nbconvert_exporter": "python",
   "pygments_lexer": "ipython3",
   "version": "3.8.8"
  }
 },
 "nbformat": 4,
 "nbformat_minor": 5
}
